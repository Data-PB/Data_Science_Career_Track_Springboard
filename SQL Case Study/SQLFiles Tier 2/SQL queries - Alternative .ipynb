{
 "cells": [
  {
   "cell_type": "code",
   "execution_count": 1,
   "metadata": {},
   "outputs": [],
   "source": [
    "# Import packages\n",
    "from sqlalchemy import create_engine\n",
    "import pandas as pd\n",
    "\n",
    "# Create engine: engine\n",
    "engine = create_engine('sqlite:///sqlite_db_pythonsqlite.db')"
   ]
  },
  {
   "cell_type": "code",
   "execution_count": 2,
   "metadata": {},
   "outputs": [],
   "source": [
    "# Execute query and store records in DataFrame: df\n",
    "df = pd.read_sql_query('SELECT * from Bookings', engine)"
   ]
  },
  {
   "cell_type": "code",
   "execution_count": 3,
   "metadata": {},
   "outputs": [
    {
     "data": {
      "text/html": [
       "<div>\n",
       "<style scoped>\n",
       "    .dataframe tbody tr th:only-of-type {\n",
       "        vertical-align: middle;\n",
       "    }\n",
       "\n",
       "    .dataframe tbody tr th {\n",
       "        vertical-align: top;\n",
       "    }\n",
       "\n",
       "    .dataframe thead th {\n",
       "        text-align: right;\n",
       "    }\n",
       "</style>\n",
       "<table border=\"1\" class=\"dataframe\">\n",
       "  <thead>\n",
       "    <tr style=\"text-align: right;\">\n",
       "      <th></th>\n",
       "      <th>bookid</th>\n",
       "      <th>facid</th>\n",
       "      <th>memid</th>\n",
       "      <th>starttime</th>\n",
       "      <th>slots</th>\n",
       "    </tr>\n",
       "  </thead>\n",
       "  <tbody>\n",
       "    <tr>\n",
       "      <th>0</th>\n",
       "      <td>0</td>\n",
       "      <td>3</td>\n",
       "      <td>1</td>\n",
       "      <td>2012-07-03 11:00:00</td>\n",
       "      <td>2</td>\n",
       "    </tr>\n",
       "    <tr>\n",
       "      <th>1</th>\n",
       "      <td>1</td>\n",
       "      <td>4</td>\n",
       "      <td>1</td>\n",
       "      <td>2012-07-03 08:00:00</td>\n",
       "      <td>2</td>\n",
       "    </tr>\n",
       "    <tr>\n",
       "      <th>2</th>\n",
       "      <td>2</td>\n",
       "      <td>6</td>\n",
       "      <td>0</td>\n",
       "      <td>2012-07-03 18:00:00</td>\n",
       "      <td>2</td>\n",
       "    </tr>\n",
       "    <tr>\n",
       "      <th>3</th>\n",
       "      <td>3</td>\n",
       "      <td>7</td>\n",
       "      <td>1</td>\n",
       "      <td>2012-07-03 19:00:00</td>\n",
       "      <td>2</td>\n",
       "    </tr>\n",
       "    <tr>\n",
       "      <th>4</th>\n",
       "      <td>4</td>\n",
       "      <td>8</td>\n",
       "      <td>1</td>\n",
       "      <td>2012-07-03 10:00:00</td>\n",
       "      <td>1</td>\n",
       "    </tr>\n",
       "  </tbody>\n",
       "</table>\n",
       "</div>"
      ],
      "text/plain": [
       "   bookid  facid  memid            starttime  slots\n",
       "0       0      3      1  2012-07-03 11:00:00      2\n",
       "1       1      4      1  2012-07-03 08:00:00      2\n",
       "2       2      6      0  2012-07-03 18:00:00      2\n",
       "3       3      7      1  2012-07-03 19:00:00      2\n",
       "4       4      8      1  2012-07-03 10:00:00      1"
      ]
     },
     "execution_count": 3,
     "metadata": {},
     "output_type": "execute_result"
    }
   ],
   "source": [
    "df.head()"
   ]
  },
  {
   "cell_type": "code",
   "execution_count": 4,
   "metadata": {},
   "outputs": [
    {
     "name": "stdout",
     "output_type": "stream",
     "text": [
      "              name  revenue\n",
      "0  Badminton Court    604.5\n",
      "1     Table Tennis     90.0\n",
      "2    Snooker Table    115.0\n",
      "3       Pool Table    265.0\n"
     ]
    }
   ],
   "source": [
    "# Perform query and save results to DataFrame: df\n",
    "with engine.connect() as con:\n",
    "    rs = con.execute(\"SELECT sub.name, SUM( sub.revenue ) AS revenue FROM (SELECT b.facid, b.memid, f.name, f.guestcost, f.membercost, COUNT( b.facid ) AS facid_count,CASE WHEN b.memid =0 THEN COUNT( b.facid ) * f.guestcost ELSE COUNT( b.facid ) * f.membercost END AS 'revenue'FROM Bookings AS b LEFT JOIN Facilities AS f ON b.facid = f.facid GROUP BY b.facid, b.memid) AS sub GROUP BY sub.facid HAVING revenue <=1000;\")\n",
    "    df = pd.DataFrame(rs.fetchall())\n",
    "    df.columns = rs.keys()\n",
    "\n",
    "# Print head of DataFrame df\n",
    "print(df)"
   ]
  },
  {
   "cell_type": "code",
   "execution_count": 5,
   "metadata": {},
   "outputs": [
    {
     "name": "stdout",
     "output_type": "stream",
     "text": [
      "              surname  firstname recomender_id recomender_surname  \\\n",
      "0               GUEST      GUEST                             None   \n",
      "1               Smith     Darren                             None   \n",
      "2               Smith      Tracy                             None   \n",
      "3              Rownam        Tim                             None   \n",
      "4               Tracy     Burton                             None   \n",
      "5             Farrell     Jemima                             None   \n",
      "6             Farrell      David                             None   \n",
      "7          Tupperware   Hyacinth                             None   \n",
      "8               Smith     Darren                             None   \n",
      "9              Sarwin  Ramnaresh            15              Bader   \n",
      "10             Coplin       Joan            16              Baker   \n",
      "11            Genting    Matthew             5            Butters   \n",
      "12              Baker    Timothy            13            Farrell   \n",
      "13             Pinker      David            13            Farrell   \n",
      "14             Rumney  Henrietta            20            Genting   \n",
      "15              Jones    Douglas            11              Jones   \n",
      "16               Dare      Nancy             4           Joplette   \n",
      "17              Jones      David             4           Joplette   \n",
      "18               Hunt       John            30            Purview   \n",
      "19             Boothe        Tim             3             Rownam   \n",
      "20           Joplette     Janice             1              Smith   \n",
      "21            Butters     Gerald             1              Smith   \n",
      "22               Owen    Charles             1              Smith   \n",
      "23              Smith       Jack             1              Smith   \n",
      "24          Mackenzie       Anna             1              Smith   \n",
      "25  Worthington-Smyth      Henry             2              Smith   \n",
      "26            Purview  Millicent             2              Smith   \n",
      "27            Crumpet      Erica             2              Smith   \n",
      "28              Baker       Anne             9           Stibbons   \n",
      "29              Bader   Florence             9           Stibbons   \n",
      "30           Stibbons     Ponder             6              Tracy   \n",
      "\n",
      "   recomender_firstname  \n",
      "0                  None  \n",
      "1                  None  \n",
      "2                  None  \n",
      "3                  None  \n",
      "4                  None  \n",
      "5                  None  \n",
      "6                  None  \n",
      "7                  None  \n",
      "8                  None  \n",
      "9              Florence  \n",
      "10              Timothy  \n",
      "11               Gerald  \n",
      "12               Jemima  \n",
      "13               Jemima  \n",
      "14              Matthew  \n",
      "15                David  \n",
      "16               Janice  \n",
      "17               Janice  \n",
      "18            Millicent  \n",
      "19                  Tim  \n",
      "20               Darren  \n",
      "21               Darren  \n",
      "22               Darren  \n",
      "23               Darren  \n",
      "24               Darren  \n",
      "25                Tracy  \n",
      "26                Tracy  \n",
      "27                Tracy  \n",
      "28               Ponder  \n",
      "29               Ponder  \n",
      "30               Burton  \n"
     ]
    }
   ],
   "source": [
    "# Perform query and save results to DataFrame: df\n",
    "with engine.connect() as con:\n",
    "    rs = con.execute(\"SELECT m.surname, m.firstname, m.recommendedby AS recomender_id, r.surname AS recomender_surname, r.firstname AS recomender_firstname FROM Members AS m LEFT JOIN Members AS r ON m.recommendedby = r.memid WHERE m.recommendedby != 0 ORDER BY r.surname, r.firstname;\")\n",
    "    df = pd.DataFrame(rs.fetchall())\n",
    "    df.columns = rs.keys()\n",
    "\n",
    "# Print head of DataFrame df\n",
    "print(df)"
   ]
  },
  {
   "cell_type": "code",
   "execution_count": 6,
   "metadata": {},
   "outputs": [
    {
     "name": "stdout",
     "output_type": "stream",
     "text": [
      "   facid  mem_usage             name\n",
      "0      0        308   Tennis Court 1\n",
      "1      1        276   Tennis Court 2\n",
      "2      2        344  Badminton Court\n",
      "3      3        385     Table Tennis\n",
      "4      4        421   Massage Room 1\n",
      "5      5         27   Massage Room 2\n",
      "6      6        195     Squash Court\n",
      "7      7        421    Snooker Table\n",
      "8      8        783       Pool Table\n"
     ]
    }
   ],
   "source": [
    "# Perform query and save results to DataFrame: df\n",
    "with engine.connect() as con:\n",
    "    rs = con.execute(\"SELECT b.facid, COUNT( b.memid ) AS mem_usage, f.name FROM (SELECT facid, memid FROM Bookings WHERE memid !=0) AS b LEFT JOIN Facilities AS f ON b.facid = f.facid GROUP BY b.facid;\")\n",
    "    df = pd.DataFrame(rs.fetchall())\n",
    "    df.columns = rs.keys()\n",
    "\n",
    "# Print head of DataFrame df\n",
    "print(df)        "
   ]
  },
  {
   "cell_type": "code",
   "execution_count": 8,
   "metadata": {},
   "outputs": [],
   "source": [
    "# Perform query and save results to DataFrame: df\n",
    "with engine.connect() as con:\n",
    "    rs = con.execute(\"SELECT b.months, COUNT( b.memid ) AS mem_usage FROM (SELECT strftime('%m', starttime ) AS months, memid FROM Bookings WHERE memid !=0 ) AS b GROUP BY b.months;\")\n",
    "    df = pd.DataFrame(rs.fetchall())\n",
    "    df.columns = rs.keys()"
   ]
  },
  {
   "cell_type": "code",
   "execution_count": 9,
   "metadata": {},
   "outputs": [
    {
     "data": {
      "text/html": [
       "<div>\n",
       "<style scoped>\n",
       "    .dataframe tbody tr th:only-of-type {\n",
       "        vertical-align: middle;\n",
       "    }\n",
       "\n",
       "    .dataframe tbody tr th {\n",
       "        vertical-align: top;\n",
       "    }\n",
       "\n",
       "    .dataframe thead th {\n",
       "        text-align: right;\n",
       "    }\n",
       "</style>\n",
       "<table border=\"1\" class=\"dataframe\">\n",
       "  <thead>\n",
       "    <tr style=\"text-align: right;\">\n",
       "      <th></th>\n",
       "      <th>months</th>\n",
       "      <th>mem_usage</th>\n",
       "    </tr>\n",
       "  </thead>\n",
       "  <tbody>\n",
       "    <tr>\n",
       "      <th>0</th>\n",
       "      <td>07</td>\n",
       "      <td>480</td>\n",
       "    </tr>\n",
       "    <tr>\n",
       "      <th>1</th>\n",
       "      <td>08</td>\n",
       "      <td>1168</td>\n",
       "    </tr>\n",
       "    <tr>\n",
       "      <th>2</th>\n",
       "      <td>09</td>\n",
       "      <td>1512</td>\n",
       "    </tr>\n",
       "  </tbody>\n",
       "</table>\n",
       "</div>"
      ],
      "text/plain": [
       "  months  mem_usage\n",
       "0     07        480\n",
       "1     08       1168\n",
       "2     09       1512"
      ]
     },
     "execution_count": 9,
     "metadata": {},
     "output_type": "execute_result"
    }
   ],
   "source": [
    "df"
   ]
  },
  {
   "cell_type": "code",
   "execution_count": null,
   "metadata": {},
   "outputs": [],
   "source": []
  }
 ],
 "metadata": {
  "kernelspec": {
   "display_name": "Python 3 (ipykernel)",
   "language": "python",
   "name": "python3"
  },
  "language_info": {
   "codemirror_mode": {
    "name": "ipython",
    "version": 3
   },
   "file_extension": ".py",
   "mimetype": "text/x-python",
   "name": "python",
   "nbconvert_exporter": "python",
   "pygments_lexer": "ipython3",
   "version": "3.9.7"
  }
 },
 "nbformat": 4,
 "nbformat_minor": 4
}
